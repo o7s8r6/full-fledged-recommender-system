{
 "cells": [
  {
   "cell_type": "markdown",
   "metadata": {},
   "source": [
    "# Full Fledged Recommender System\n",
    "# Created by Murat Yalcin, Data Scientist / AI Specialist\n",
    "\n",
    "I created a full fledged recommender system.\n",
    "Restricted Boltzman Machine, Auto Encoders and Collaborative filtering (CF) techniques used for our recommender system. (Collaborative filtering using Pearson Correlation (PC) is not appropriate for this data set, why is explained in related cell. I included Collaborative filtering with Pearson Correlation for trainning purposes. If we increase size of the data set, CF with PC will work smoothly)\n",
    "\n",
    "\n",
    "Pipeline :\n",
    "    1. Receive an input from user x\n",
    "    2. Tokenize input, remove punctuations, stop words\n",
    "    3. Check the input tokens match with the business features or not (I created business features by tf-idf of reviews + internet research. You can see more details on the cells, about the business features matrix)\n",
    "    4. Filter the businesses, according to the user input tokens match with the business features\n",
    "    5. Predict whether user will like the reataurant or not, using Restricted Boltzman Machine\n",
    "    6. From the restaurants that RBM resulted user will like, take the top 3 which ones has the the highest stars\n",
    "    7. If RBM is not able to return 3 restaurants, Stacked auto encoders will predict the stars that specific user will give to the each business. \n",
    "    8. Take the top 3 prediction merge with the RBM results. \n",
    "    9. If still we are not able to return 3 restaurants, take the businesses with the highest stars and pick 3, merge with previous prediction\n",
    "    10. if we want to recommend new restaurants to the user, we will use collaborative filtering and content based filtering techniques to find the restaurants that user will like.\n",
    "    11. Return 3 restaurants user will like\n",
    "                                                                                                                         \n",
    "Each line of code include descriptions"
   ]
  },
  {
   "cell_type": "code",
   "execution_count": 4,
   "metadata": {},
   "outputs": [],
   "source": [
    "# Import necessary libraries\n",
    "import pandas as pd\n",
    "import numpy as np\n",
    "import matplotlib.pyplot as plt\n",
    "%matplotlib inline\n",
    "import seaborn as sns\n",
    "from sklearn.model_selection import train_test_split"
   ]
  },
  {
   "cell_type": "code",
   "execution_count": 4,
   "metadata": {},
   "outputs": [],
   "source": [
    "#load data\n",
    "data = pd.read_csv('dataset_food_online.txt', sep=',', encoding = 'latin-1')"
   ]
  },
  {
   "cell_type": "code",
   "execution_count": 3,
   "metadata": {},
   "outputs": [
    {
     "data": {
      "text/plain": [
       "(10000, 10)"
      ]
     },
     "execution_count": 3,
     "metadata": {},
     "output_type": "execute_result"
    }
   ],
   "source": [
    "data.shape"
   ]
  },
  {
   "cell_type": "code",
   "execution_count": 4,
   "metadata": {},
   "outputs": [
    {
     "data": {
      "text/html": [
       "<div>\n",
       "<style>\n",
       "    .dataframe thead tr:only-child th {\n",
       "        text-align: right;\n",
       "    }\n",
       "\n",
       "    .dataframe thead th {\n",
       "        text-align: left;\n",
       "    }\n",
       "\n",
       "    .dataframe tbody tr th {\n",
       "        vertical-align: top;\n",
       "    }\n",
       "</style>\n",
       "<table border=\"1\" class=\"dataframe\">\n",
       "  <thead>\n",
       "    <tr style=\"text-align: right;\">\n",
       "      <th></th>\n",
       "      <th>business_id</th>\n",
       "      <th>date</th>\n",
       "      <th>review_id</th>\n",
       "      <th>stars</th>\n",
       "      <th>text</th>\n",
       "      <th>type</th>\n",
       "      <th>user_id</th>\n",
       "      <th>cool</th>\n",
       "      <th>useful</th>\n",
       "      <th>funny</th>\n",
       "    </tr>\n",
       "  </thead>\n",
       "  <tbody>\n",
       "    <tr>\n",
       "      <th>0</th>\n",
       "      <td>9yKzy9PApeiPPOUJEtnvkg</td>\n",
       "      <td>2011-01-26</td>\n",
       "      <td>fWKvX83p0-ka4JS3dc6E5A</td>\n",
       "      <td>5</td>\n",
       "      <td>My wife took me here on my birthday for breakf...</td>\n",
       "      <td>review</td>\n",
       "      <td>rLtl8ZkDX5vH5nAx9C3q5Q</td>\n",
       "      <td>2</td>\n",
       "      <td>5</td>\n",
       "      <td>0</td>\n",
       "    </tr>\n",
       "    <tr>\n",
       "      <th>1</th>\n",
       "      <td>ZRJwVLyzEJq1VAihDhYiow</td>\n",
       "      <td>2011-07-27</td>\n",
       "      <td>IjZ33sJrzXqU-0X6U8NwyA</td>\n",
       "      <td>5</td>\n",
       "      <td>I have no idea why some people give bad review...</td>\n",
       "      <td>review</td>\n",
       "      <td>0a2KyEL0d3Yb1V6aivbIuQ</td>\n",
       "      <td>0</td>\n",
       "      <td>0</td>\n",
       "      <td>0</td>\n",
       "    </tr>\n",
       "  </tbody>\n",
       "</table>\n",
       "</div>"
      ],
      "text/plain": [
       "              business_id        date               review_id  stars  \\\n",
       "0  9yKzy9PApeiPPOUJEtnvkg  2011-01-26  fWKvX83p0-ka4JS3dc6E5A      5   \n",
       "1  ZRJwVLyzEJq1VAihDhYiow  2011-07-27  IjZ33sJrzXqU-0X6U8NwyA      5   \n",
       "\n",
       "                                                text    type  \\\n",
       "0  My wife took me here on my birthday for breakf...  review   \n",
       "1  I have no idea why some people give bad review...  review   \n",
       "\n",
       "                  user_id  cool  useful  funny  \n",
       "0  rLtl8ZkDX5vH5nAx9C3q5Q     2       5      0  \n",
       "1  0a2KyEL0d3Yb1V6aivbIuQ     0       0      0  "
      ]
     },
     "execution_count": 4,
     "metadata": {},
     "output_type": "execute_result"
    }
   ],
   "source": [
    "data.head(2)"
   ]
  },
  {
   "cell_type": "code",
   "execution_count": 5,
   "metadata": {},
   "outputs": [
    {
     "name": "stdout",
     "output_type": "stream",
     "text": [
      "<class 'pandas.core.frame.DataFrame'>\n",
      "RangeIndex: 10000 entries, 0 to 9999\n",
      "Data columns (total 10 columns):\n",
      "business_id    10000 non-null object\n",
      "date           10000 non-null object\n",
      "review_id      10000 non-null object\n",
      "stars          10000 non-null int64\n",
      "text           10000 non-null object\n",
      "type           10000 non-null object\n",
      "user_id        10000 non-null object\n",
      "cool           10000 non-null int64\n",
      "useful         10000 non-null int64\n",
      "funny          10000 non-null int64\n",
      "dtypes: int64(4), object(6)\n",
      "memory usage: 781.3+ KB\n"
     ]
    }
   ],
   "source": [
    "data.info()"
   ]
  },
  {
   "cell_type": "markdown",
   "metadata": {},
   "source": [
    "Data has 10000 rows and 10 columns. We are mostly interested in stars and reviews columns\n",
    "\n",
    "Data is clean and no na's"
   ]
  },
  {
   "cell_type": "code",
   "execution_count": 6,
   "metadata": {},
   "outputs": [
    {
     "data": {
      "text/plain": [
       "<matplotlib.axes._subplots.AxesSubplot at 0x10b487630>"
      ]
     },
     "execution_count": 6,
     "metadata": {},
     "output_type": "execute_result"
    },
    {
     "data": {
      "image/png": "[encoded data removed]",
      "text/plain": [
       "<matplotlib.figure.Figure at 0x10b487a90>"
      ]
     },
     "metadata": {},
     "output_type": "display_data"
    }
   ],
   "source": [
    "data.stars.hist()"
   ]
  },
  {
   "cell_type": "markdown",
   "metadata": {},
   "source": [
    "Most of the restaurants recieved 4-5 stars. We see there is skewness towards to higer ratings"
   ]
  },
  {
   "cell_type": "code",
   "execution_count": 8,
   "metadata": {},
   "outputs": [
    {
     "name": "stdout",
     "output_type": "stream",
     "text": [
      "4174\n",
      "6403\n"
     ]
    }
   ],
   "source": [
    "print(data.business_id.nunique())\n",
    "print(data.user_id.nunique())"
   ]
  },
  {
   "cell_type": "markdown",
   "metadata": {},
   "source": [
    "We have 4174 businesses and 6403 unique customers. \n",
    "\n",
    "Our total data set includes 10000 rows, which means on average one customer reviewed two businesses. This is a very small data set for a recommender system. \n",
    "\n",
    "Especially finding similarities with a pearson correlation on this data set will result all 0 correlations. Because rule of thum for pearson correlation is around 25."
   ]
  },
  {
   "cell_type": "code",
   "execution_count": 9,
   "metadata": {},
   "outputs": [
    {
     "name": "stdout",
     "output_type": "stream",
     "text": [
      "29\n",
      "[ 0  1  2  3  4  5  6  7  8  9 10 11 12 13 14 15 16 17 18 19 20 21 22 23\n",
      " 27 28 32 38 77]\n",
      "28\n",
      "[ 0  1  2  3  4  5  6  7  8  9 10 11 12 13 14 15 16 17 18 19 20 23 24 28\n",
      " 30 31 38 76]\n",
      "29\n",
      "[ 0  1  2  3  4  5  6  7  8  9 10 11 12 13 14 15 16 17 18 19 20 21 22 23\n",
      " 24 27 30 39 57]\n"
     ]
    }
   ],
   "source": [
    "print(data.cool.nunique())\n",
    "print(np.sort(data.cool.unique()))\n",
    "print(data.useful.nunique())\n",
    "print(np.sort(data.useful.unique()))\n",
    "print(data.funny.nunique())\n",
    "print(np.sort(data.funny.unique()))"
   ]
  },
  {
   "cell_type": "markdown",
   "metadata": {},
   "source": [
    "cool, useful, funny features will not be included in our model for two reasons:\n",
    "    \n",
    "    1. review and stars features explicitly mentioned in the description\n",
    "    \n",
    "    2. limited time did not allow detailed exploratory analysis of all features in data set\n",
    "    \n",
    "    Especially usefull column can be used as a filtering mechanizm for reviews, however I am not going to spend time on it."
   ]
  },
  {
   "cell_type": "code",
   "execution_count": 10,
   "metadata": {},
   "outputs": [
    {
     "data": {
      "text/plain": [
       "business_id    0\n",
       "date           0\n",
       "review_id      0\n",
       "stars          0\n",
       "text           0\n",
       "type           0\n",
       "user_id        0\n",
       "cool           0\n",
       "useful         0\n",
       "funny          0\n",
       "dtype: int64"
      ]
     },
     "execution_count": 10,
     "metadata": {},
     "output_type": "execute_result"
    }
   ],
   "source": [
    "data.isnull().sum()"
   ]
  },
  {
   "cell_type": "code",
   "execution_count": 11,
   "metadata": {},
   "outputs": [
    {
     "data": {
      "text/plain": [
       "<matplotlib.axes._subplots.AxesSubplot at 0x10a834198>"
      ]
     },
     "execution_count": 11,
     "metadata": {},
     "output_type": "execute_result"
    },
    {
     "data": {
      "image/png": "[encoded data removed]",
      "text/plain": [
       "<matplotlib.figure.Figure at 0x10a86b048>"
      ]
     },
     "metadata": {},
     "output_type": "display_data"
    }
   ],
   "source": [
    "data.cool.hist(bins=150)"
   ]
  },
  {
   "cell_type": "code",
   "execution_count": 12,
   "metadata": {},
   "outputs": [
    {
     "data": {
      "text/plain": [
       "<matplotlib.axes._subplots.AxesSubplot at 0x10ad3d128>"
      ]
     },
     "execution_count": 12,
     "metadata": {},
     "output_type": "execute_result"
    },
    {
     "data": {
      "image/png": "[encoded data removed]",
      "text/plain": [
       "<matplotlib.figure.Figure at 0x10a8aef28>"
      ]
     },
     "metadata": {},
     "output_type": "display_data"
    }
   ],
   "source": [
    "data.funny.hist(bins=150)"
   ]
  },
  {
   "cell_type": "code",
   "execution_count": 13,
   "metadata": {},
   "outputs": [
    {
     "data": {
      "text/plain": [
       "<matplotlib.axes._subplots.AxesSubplot at 0x10ae6cc88>"
      ]
     },
     "execution_count": 13,
     "metadata": {},
     "output_type": "execute_result"
    },
    {
     "data": {
      "image/png": "[encoded data removed]",
      "text/plain": [
       "<matplotlib.figure.Figure at 0x10b0a2d68>"
      ]
     },
     "metadata": {},
     "output_type": "display_data"
    }
   ],
   "source": [
    "data.useful.hist(bins=150)"
   ]
  },
  {
   "cell_type": "markdown",
   "metadata": {},
   "source": [
    "We mentioned cool, funny, usefull will not be included in our model. Plots shows that these features are highly skewed. Anybody who wants to spend more time on these features may try taking log of these features."
   ]
  },
  {
   "cell_type": "markdown",
   "metadata": {},
   "source": [
    "Since original data has ecrpyted columns, replacing numbers with these featues will benefit for clairty and easy modelling"
   ]
  },
  {
   "cell_type": "code",
   "execution_count": 5,
   "metadata": {},
   "outputs": [],
   "source": [
    "from sklearn.preprocessing import LabelEncoder\n",
    "labelbusines = LabelEncoder()\n",
    "labelreview = LabelEncoder()\n",
    "labeluser = LabelEncoder()\n",
    "data.business_id = labelbusines.fit_transform(data.business_id)\n",
    "data.review_id = labelreview.fit_transform(data.review_id)\n",
    "data.user_id = labeluser.fit_transform(data.user_id)"
   ]
  },
  {
   "cell_type": "code",
   "execution_count": 15,
   "metadata": {},
   "outputs": [
    {
     "data": {
      "text/html": [
       "<div>\n",
       "<style>\n",
       "    .dataframe thead tr:only-child th {\n",
       "        text-align: right;\n",
       "    }\n",
       "\n",
       "    .dataframe thead th {\n",
       "        text-align: left;\n",
       "    }\n",
       "\n",
       "    .dataframe tbody tr th {\n",
       "        vertical-align: top;\n",
       "    }\n",
       "</style>\n",
       "<table border=\"1\" class=\"dataframe\">\n",
       "  <thead>\n",
       "    <tr style=\"text-align: right;\">\n",
       "      <th></th>\n",
       "      <th>business_id</th>\n",
       "      <th>review_id</th>\n",
       "      <th>stars</th>\n",
       "      <th>user_id</th>\n",
       "      <th>cool</th>\n",
       "      <th>useful</th>\n",
       "      <th>funny</th>\n",
       "    </tr>\n",
       "  </thead>\n",
       "  <tbody>\n",
       "    <tr>\n",
       "      <th>count</th>\n",
       "      <td>10000.000000</td>\n",
       "      <td>10000.00000</td>\n",
       "      <td>10000.000000</td>\n",
       "      <td>10000.000000</td>\n",
       "      <td>10000.000000</td>\n",
       "      <td>10000.000000</td>\n",
       "      <td>10000.000000</td>\n",
       "    </tr>\n",
       "    <tr>\n",
       "      <th>mean</th>\n",
       "      <td>2094.555600</td>\n",
       "      <td>4999.50000</td>\n",
       "      <td>3.777500</td>\n",
       "      <td>3177.751700</td>\n",
       "      <td>0.876800</td>\n",
       "      <td>1.409300</td>\n",
       "      <td>0.701300</td>\n",
       "    </tr>\n",
       "    <tr>\n",
       "      <th>std</th>\n",
       "      <td>1205.622291</td>\n",
       "      <td>2886.89568</td>\n",
       "      <td>1.214636</td>\n",
       "      <td>1865.012161</td>\n",
       "      <td>2.067861</td>\n",
       "      <td>2.336647</td>\n",
       "      <td>1.907942</td>\n",
       "    </tr>\n",
       "    <tr>\n",
       "      <th>min</th>\n",
       "      <td>0.000000</td>\n",
       "      <td>0.00000</td>\n",
       "      <td>1.000000</td>\n",
       "      <td>0.000000</td>\n",
       "      <td>0.000000</td>\n",
       "      <td>0.000000</td>\n",
       "      <td>0.000000</td>\n",
       "    </tr>\n",
       "    <tr>\n",
       "      <th>25%</th>\n",
       "      <td>1058.000000</td>\n",
       "      <td>2499.75000</td>\n",
       "      <td>3.000000</td>\n",
       "      <td>1531.000000</td>\n",
       "      <td>0.000000</td>\n",
       "      <td>0.000000</td>\n",
       "      <td>0.000000</td>\n",
       "    </tr>\n",
       "    <tr>\n",
       "      <th>50%</th>\n",
       "      <td>2114.500000</td>\n",
       "      <td>4999.50000</td>\n",
       "      <td>4.000000</td>\n",
       "      <td>3195.500000</td>\n",
       "      <td>0.000000</td>\n",
       "      <td>1.000000</td>\n",
       "      <td>0.000000</td>\n",
       "    </tr>\n",
       "    <tr>\n",
       "      <th>75%</th>\n",
       "      <td>3134.000000</td>\n",
       "      <td>7499.25000</td>\n",
       "      <td>5.000000</td>\n",
       "      <td>4800.000000</td>\n",
       "      <td>1.000000</td>\n",
       "      <td>2.000000</td>\n",
       "      <td>1.000000</td>\n",
       "    </tr>\n",
       "    <tr>\n",
       "      <th>max</th>\n",
       "      <td>4173.000000</td>\n",
       "      <td>9999.00000</td>\n",
       "      <td>5.000000</td>\n",
       "      <td>6402.000000</td>\n",
       "      <td>77.000000</td>\n",
       "      <td>76.000000</td>\n",
       "      <td>57.000000</td>\n",
       "    </tr>\n",
       "  </tbody>\n",
       "</table>\n",
       "</div>"
      ],
      "text/plain": [
       "        business_id    review_id         stars       user_id          cool  \\\n",
       "count  10000.000000  10000.00000  10000.000000  10000.000000  10000.000000   \n",
       "mean    2094.555600   4999.50000      3.777500   3177.751700      0.876800   \n",
       "std     1205.622291   2886.89568      1.214636   1865.012161      2.067861   \n",
       "min        0.000000      0.00000      1.000000      0.000000      0.000000   \n",
       "25%     1058.000000   2499.75000      3.000000   1531.000000      0.000000   \n",
       "50%     2114.500000   4999.50000      4.000000   3195.500000      0.000000   \n",
       "75%     3134.000000   7499.25000      5.000000   4800.000000      1.000000   \n",
       "max     4173.000000   9999.00000      5.000000   6402.000000     77.000000   \n",
       "\n",
       "             useful         funny  \n",
       "count  10000.000000  10000.000000  \n",
       "mean       1.409300      0.701300  \n",
       "std        2.336647      1.907942  \n",
       "min        0.000000      0.000000  \n",
       "25%        0.000000      0.000000  \n",
       "50%        1.000000      0.000000  \n",
       "75%        2.000000      1.000000  \n",
       "max       76.000000     57.000000  "
      ]
     },
     "execution_count": 15,
     "metadata": {},
     "output_type": "execute_result"
    }
   ],
   "source": [
    "data.describe()"
   ]
  },
  {
   "cell_type": "code",
   "execution_count": 118,
   "metadata": {},
   "outputs": [],
   "source": [
    "data = data.sort_values('user_id')"
   ]
  },
  {
   "cell_type": "markdown",
   "metadata": {},
   "source": [
    "Sample to show how to get stars of businesses"
   ]
  },
  {
   "cell_type": "code",
   "execution_count": 18,
   "metadata": {},
   "outputs": [
    {
     "data": {
      "text/plain": [
       "2449    5\n",
       "Name: stars, dtype: int64"
      ]
     },
     "execution_count": 18,
     "metadata": {},
     "output_type": "execute_result"
    }
   ],
   "source": [
    "data[data.user_id==0].stars[data[data.user_id==0].business_id==2640]"
   ]
  },
  {
   "cell_type": "markdown",
   "metadata": {},
   "source": [
    "For anybody who wants to return encryped business names Instead of id numbers"
   ]
  },
  {
   "cell_type": "code",
   "execution_count": 19,
   "metadata": {},
   "outputs": [
    {
     "name": "stdout",
     "output_type": "stream",
     "text": [
      "['--65q1FpAL_UQtVZ2PTGew' '--65q1FpAL_UQtVZ2PTGew'\n",
      " '--65q1FpAL_UQtVZ2PTGew' ... 'zxnoE5IjuWoI9mF1gwyg5w'\n",
      " 'zzhdnNeg65wupOXqYtGyJw' 'zzmRKNph-pBHDL2qwGv9Fw']\n"
     ]
    },
    {
     "name": "stderr",
     "output_type": "stream",
     "text": [
      "/Users/muratyalcin/anaconda3/lib/python3.6/site-packages/sklearn/preprocessing/label.py:151: DeprecationWarning: The truth value of an empty array is ambiguous. Returning False, but in future this will result in an error. Use `array.size > 0` to check that an array is not empty.\n",
      "  if diff:\n"
     ]
    }
   ],
   "source": [
    "inv = labeluser.inverse_transform(data.user_id)\n",
    "print(inv)"
   ]
  },
  {
   "cell_type": "code",
   "execution_count": 88,
   "metadata": {},
   "outputs": [],
   "source": [
    "# split data as a train and test\n",
    "from sklearn.model_selection import train_test_split\n",
    "train, test = train_test_split(data, test_size=0.5)"
   ]
  },
  {
   "cell_type": "markdown",
   "metadata": {},
   "source": [
    "We need to create an array, customers in lines, businesses in columns and ratings filled to appropriate positions"
   ]
  },
  {
   "cell_type": "code",
   "execution_count": 119,
   "metadata": {},
   "outputs": [],
   "source": [
    "# Getting the number of users and businesses\n",
    "nb_users = data.user_id.nunique()\n",
    "nb_business = data.business_id.nunique()\n",
    "# Converting the data into an array with customers in lines and businesses in columns\n",
    "def convert(data):\n",
    "    new_data = []\n",
    "    for id_users in range(nb_users):\n",
    "        id_business = data.business_id[data.user_id == id_users]\n",
    "        id_ratings = data.stars[data.user_id == id_users]\n",
    "        ratings = np.zeros(nb_business)\n",
    "        ratings[id_business] = id_ratings\n",
    "        new_data.append(list(ratings))\n",
    "    return new_data"
   ]
  },
  {
   "cell_type": "code",
   "execution_count": 23,
   "metadata": {},
   "outputs": [],
   "source": [
    "data_matrix = convert(data)"
   ]
  },
  {
   "cell_type": "code",
   "execution_count": 24,
   "metadata": {},
   "outputs": [
    {
     "name": "stdout",
     "output_type": "stream",
     "text": [
      "2449    True\n",
      "Name: stars, dtype: bool\n",
      "2423    True\n",
      "Name: stars, dtype: bool\n",
      "2710    True\n",
      "Name: stars, dtype: bool\n"
     ]
    }
   ],
   "source": [
    "# Unit test to verify data conversion is correct\n",
    "print(data_matrix[0][2640] == data[data.user_id==0].stars[data[data.user_id==0].business_id==2640])\n",
    "print(data_matrix[0][3589] == data[data.user_id==0].stars[data[data.user_id==0].business_id==3589])\n",
    "print(data_matrix[0][3250] == data[data.user_id==0].stars[data[data.user_id==0].business_id==3250])"
   ]
  },
  {
   "cell_type": "code",
   "execution_count": 90,
   "metadata": {},
   "outputs": [],
   "source": [
    "# convert train and test data sets \n",
    "training_set = convert(train)\n",
    "test_set = convert(test)"
   ]
  },
  {
   "cell_type": "code",
   "execution_count": 27,
   "metadata": {},
   "outputs": [],
   "source": [
    "# import necessary torch libraries\n",
    "import torch\n",
    "import torch.nn as nn\n",
    "import torch.nn.parallel\n",
    "import torch.optim as optim\n",
    "import torch.utils.data\n",
    "from torch.autograd import Variable"
   ]
  },
  {
   "cell_type": "markdown",
   "metadata": {},
   "source": [
    "Below code is for Restricted Boltzman Machines \n",
    "\n",
    "Both RBM and Auto encoder codes taken from SuperDataScience team. Sklearn is also have buildin BernulliRBM() function. Both are applying the same math functions \n",
    "\n",
    "Since I modified and added more functions to RBM class, I prefered to use SuperDataScience team's codes."
   ]
  },
  {
   "cell_type": "code",
   "execution_count": 28,
   "metadata": {},
   "outputs": [],
   "source": [
    "# Converting the data into Torch tensors\n",
    "training_set = torch.FloatTensor(training_set)\n",
    "test_set = torch.FloatTensor(test_set)\n",
    "\n",
    "# Converting the ratings into binary ratings 1 (Liked) or 0 (Not Liked)\n",
    "training_set[training_set == 0] = -1\n",
    "training_set[training_set == 1] = 0\n",
    "training_set[training_set == 2] = 0\n",
    "training_set[training_set >= 3] = 1\n",
    "test_set[test_set == 0] = -1\n",
    "test_set[test_set == 1] = 0\n",
    "test_set[test_set == 2] = 0\n",
    "test_set[test_set >= 3] = 1\n",
    "\n",
    "# Creating the architecture of the Neural Network\n",
    "class RBM():\n",
    "    def __init__(self, nv, nh): # nv = number of visible nodes, vh = number of hidden nodes\n",
    "        # initialize weights and bias using torch random number generator\n",
    "        self.W = torch.randn(nh, nv)\n",
    "        self.a = torch.randn(1, nh) # bias for hidden nodes\n",
    "        self.b = torch.randn(1, nv) # bias for visible nodes\n",
    "    def sample_h(self, x): # x = visible neurons v, in the probabilities (ph given v (sigmoid))\n",
    "        wx = torch.mm(x, self.W.t())\n",
    "        activation = wx + self.a.expand_as(wx) # add bias\n",
    "        p_h_given_v = torch.sigmoid(activation) # apply activation\n",
    "        return p_h_given_v, torch.bernoulli(p_h_given_v)\n",
    "    def sample_v(self, y):\n",
    "        wy = torch.mm(y, self.W)\n",
    "        activation = wy + self.b.expand_as(wy)\n",
    "        p_v_given_h = torch.sigmoid(activation)\n",
    "        return p_v_given_h, torch.bernoulli(p_v_given_h)\n",
    "    def train(self, v0, vk, ph0, phk):\n",
    "        #self.W += torch.mm(v0.t(), ph0) - torch.mm(vk.t(), phk)\n",
    "        self.W += (torch.mm(v0.t(),ph0) - torch.mm(vk.t(),phk)).t()\n",
    "        self.b += torch.sum((v0 - vk), 0)\n",
    "        self.a += torch.sum((ph0 - phk), 0)\n",
    "nv = len(training_set[0])\n",
    "nh = 20 # tune this paramater\n",
    "batch_size = 32 # tune this paramater\n",
    "rbm = RBM(nv, nh)\n"
   ]
  },
  {
   "cell_type": "code",
   "execution_count": null,
   "metadata": {},
   "outputs": [],
   "source": [
    "#Due to the time and computer power limitation, I kept the grid search limites. \n",
    "\n",
    "#If you have enough time and power, you can try these:\n",
    "    \n",
    "params = {'nh': [10,20,30,40,50],\n",
    "         'batch_size' : [16,32,64,128,256],\n",
    "         'nb_epoch' : [50,80,100,200],\n",
    "         'activation' : ['sigmoid', 'tanh']}\n",
    "    "
   ]
  },
  {
   "cell_type": "code",
   "execution_count": 32,
   "metadata": {},
   "outputs": [
    {
     "name": "stdout",
     "output_type": "stream",
     "text": [
      "epoch: 1 loss: tensor(0.1204)\n",
      "epoch: 2 loss: tensor(0.1183)\n",
      "epoch: 3 loss: tensor(0.1168)\n",
      "epoch: 4 loss: tensor(0.1276)\n",
      "epoch: 5 loss: tensor(0.1153)\n",
      "epoch: 6 loss: tensor(0.1186)\n",
      "epoch: 7 loss: tensor(0.1262)\n",
      "epoch: 8 loss: tensor(0.1200)\n",
      "epoch: 9 loss: tensor(0.1295)\n",
      "epoch: 10 loss: tensor(0.1178)\n",
      "epoch: 11 loss: tensor(0.1187)\n",
      "epoch: 12 loss: tensor(0.1237)\n",
      "epoch: 13 loss: tensor(0.1181)\n",
      "epoch: 14 loss: tensor(0.1193)\n",
      "epoch: 15 loss: tensor(0.1212)\n",
      "epoch: 16 loss: tensor(0.1152)\n",
      "epoch: 17 loss: tensor(0.1180)\n",
      "epoch: 18 loss: tensor(0.1167)\n",
      "epoch: 19 loss: tensor(0.1187)\n",
      "epoch: 20 loss: tensor(0.1167)\n"
     ]
    }
   ],
   "source": [
    "# Training the RBM\n",
    "nb_epoch = 20 # tune this paramater\n",
    "for epoch in range(1, nb_epoch + 1):\n",
    "    train_loss = 0\n",
    "    s = 0.\n",
    "    for id_user in range(0, nb_users - batch_size, batch_size):\n",
    "        vk = training_set[id_user:id_user+batch_size]\n",
    "        v0 = training_set[id_user:id_user+batch_size]\n",
    "        ph0,_ = rbm.sample_h(v0)\n",
    "        for k in range(10):\n",
    "            _,hk = rbm.sample_h(vk)\n",
    "            _,vk = rbm.sample_v(hk)\n",
    "            vk[v0<0] = v0[v0<0]\n",
    "        phk,_ = rbm.sample_h(vk)\n",
    "        rbm.train(v0, vk, ph0, phk)\n",
    "        train_loss += torch.mean(torch.abs(v0[v0>=0] - vk[v0>=0]))\n",
    "        s += 1.\n",
    "    print('epoch: '+str(epoch)+' loss: '+str(train_loss/s))"
   ]
  },
  {
   "cell_type": "code",
   "execution_count": null,
   "metadata": {},
   "outputs": [],
   "source": [
    "# Testing the RBM  ####### Modified version\n",
    "\n",
    "def predict(id_user):\n",
    "    v = training_set[id_user:id_user+1]\n",
    "    #vt = test_set[id_user:id_user+1]\n",
    "    _,h = rbm.sample_h(v)\n",
    "    _,v = rbm.sample_v(h) \n",
    "    return v\n",
    "\n",
    "print(predict(1))"
   ]
  },
  {
   "cell_type": "code",
   "execution_count": 34,
   "metadata": {},
   "outputs": [
    {
     "name": "stdout",
     "output_type": "stream",
     "text": [
      "test loss: tensor(0.3199)\n"
     ]
    }
   ],
   "source": [
    "# Testing the RBM\n",
    "test_loss = 0\n",
    "s = 0.\n",
    "for id_user in range(nb_users):\n",
    "    v = training_set[id_user:id_user+1]\n",
    "    vt = test_set[id_user:id_user+1]\n",
    "    if len(vt[vt>=0]) > 0:\n",
    "        _,h = rbm.sample_h(v)\n",
    "        _,v = rbm.sample_v(h) # v is the prediction result\n",
    "        test_loss += torch.mean(torch.abs(vt[vt>=0] - v[vt>=0]))\n",
    "        s += 1.\n",
    "print('test loss: '+str(test_loss/s))"
   ]
  },
  {
   "cell_type": "markdown",
   "metadata": {},
   "source": [
    "Train is loss is 0.1 and test loss is 0.32 indicates overfitting. \n",
    "\n",
    "Reducing the hidden layer size and number of layers may help overfitting problem. \n",
    "\n",
    "Getting more data is another solution to overfitting problem."
   ]
  },
  {
   "cell_type": "markdown",
   "metadata": {},
   "source": [
    "RBM will be used to recommend according to ratings. We need to create business features to catch user input.\n",
    "\n",
    "I will use NLP technique to get most important words in reviews. From these words, I will manually select the words represents the business.\n",
    "\n",
    "I will also go online and find the words represents restaurant businesses. I will combine both words and create business features matrix."
   ]
  },
  {
   "cell_type": "markdown",
   "metadata": {},
   "source": [
    "# Tf - idf"
   ]
  },
  {
   "cell_type": "code",
   "execution_count": 25,
   "metadata": {},
   "outputs": [
    {
     "data": {
      "text/html": [
       "<script>requirejs.config({paths: { 'plotly': ['https://cdn.plot.ly/plotly-latest.min']},});if(!window.Plotly) {{require(['plotly'],function(plotly) {window.Plotly=plotly;});}}</script>"
      ],
      "text/vnd.plotly.v1+html": [
       "<script>requirejs.config({paths: { 'plotly': ['https://cdn.plot.ly/plotly-latest.min']},});if(!window.Plotly) {{require(['plotly'],function(plotly) {window.Plotly=plotly;});}}</script>"
      ]
     },
     "metadata": {},
     "output_type": "display_data"
    }
   ],
   "source": [
    "import nltk\n",
    "import string\n",
    "import re\n",
    "import numpy as np\n",
    "import pandas as pd\n",
    "import pickle\n",
    "#import lda\n",
    "\n",
    "import matplotlib.pyplot as plt\n",
    "import seaborn as sns\n",
    "sns.set(style=\"white\")\n",
    "\n",
    "from nltk.stem.porter import *\n",
    "from nltk.tokenize import word_tokenize, sent_tokenize\n",
    "from nltk.corpus import stopwords\n",
    "from sklearn.feature_extraction import stop_words\n",
    "\n",
    "from collections import Counter\n",
    "from wordcloud import WordCloud\n",
    "from sklearn.feature_extraction.text import TfidfVectorizer\n",
    "from sklearn.feature_extraction.text import CountVectorizer\n",
    "from sklearn.decomposition import LatentDirichletAllocation\n",
    "\n",
    "import plotly.offline as py\n",
    "py.init_notebook_mode(connected=True)\n",
    "import plotly.graph_objs as go\n",
    "import plotly.tools as tls\n",
    "%matplotlib inline\n",
    "\n",
    "import bokeh.plotting as bp\n",
    "from bokeh.models import HoverTool, BoxSelectTool\n",
    "from bokeh.models import ColumnDataSource\n",
    "from bokeh.plotting import figure, show, output_notebook\n",
    "#from bokeh.transform import factor_cmap\n",
    "\n",
    "import warnings\n",
    "warnings.filterwarnings('ignore')\n",
    "import logging\n",
    "logging.getLogger(\"lda\").setLevel(logging.WARNING)"
   ]
  },
  {
   "cell_type": "code",
   "execution_count": 26,
   "metadata": {},
   "outputs": [],
   "source": [
    "stop = set(stopwords.words('english'))\n",
    "def tokenize(text):\n",
    "    \"\"\"\n",
    "    sent_tokenize(): segment text into sentences\n",
    "    word_tokenize(): break sentences into words\n",
    "    \"\"\"\n",
    "    try: \n",
    "        regex = re.compile('[' +re.escape(string.punctuation) + '0-9\\\\r\\\\t\\\\n]')\n",
    "        text = regex.sub(\" \", text) # remove punctuation\n",
    "        \n",
    "        tokens_ = [word_tokenize(s) for s in sent_tokenize(text)]\n",
    "        tokens = []\n",
    "        for token_by_sent in tokens_:\n",
    "            tokens += token_by_sent\n",
    "        tokens = list(filter(lambda t: t.lower() not in stop, tokens))\n",
    "        filtered_tokens = [w for w in tokens if re.search('[a-zA-Z]', w)]\n",
    "        filtered_tokens = [w.lower() for w in filtered_tokens if len(w)>=3]\n",
    "        \n",
    "        return filtered_tokens\n",
    "            \n",
    "    except TypeError as e: print(text,e)"
   ]
  },
  {
   "cell_type": "code",
   "execution_count": 37,
   "metadata": {},
   "outputs": [],
   "source": [
    "from sklearn.feature_extraction.text import TfidfVectorizer\n",
    "vectorizer = TfidfVectorizer(min_df=10,\n",
    "                             max_features=190000,\n",
    "                             tokenizer=tokenize,\n",
    "                             ngram_range=(1, 2))"
   ]
  },
  {
   "cell_type": "code",
   "execution_count": 38,
   "metadata": {},
   "outputs": [],
   "source": [
    "all_desc = data['text'].values # Combine all reviews into a bag\n",
    "vz = vectorizer.fit_transform(list(all_desc))"
   ]
  },
  {
   "cell_type": "code",
   "execution_count": 39,
   "metadata": {},
   "outputs": [],
   "source": [
    "#  create a dictionary mapping the tokens to their tfidf values\n",
    "tfidf = dict(zip(vectorizer.get_feature_names(), vectorizer.idf_))\n",
    "tfidf = pd.DataFrame(columns=['tfidf']).from_dict(\n",
    "                    dict(tfidf), orient='index')\n",
    "tfidf.columns = ['tfidf']"
   ]
  },
  {
   "cell_type": "code",
   "execution_count": 40,
   "metadata": {},
   "outputs": [
    {
     "data": {
      "text/html": [
       "<div>\n",
       "<style>\n",
       "    .dataframe thead tr:only-child th {\n",
       "        text-align: right;\n",
       "    }\n",
       "\n",
       "    .dataframe thead th {\n",
       "        text-align: left;\n",
       "    }\n",
       "\n",
       "    .dataframe tbody tr th {\n",
       "        vertical-align: top;\n",
       "    }\n",
       "</style>\n",
       "<table border=\"1\" class=\"dataframe\">\n",
       "  <thead>\n",
       "    <tr style=\"text-align: right;\">\n",
       "      <th></th>\n",
       "      <th>tfidf</th>\n",
       "    </tr>\n",
       "  </thead>\n",
       "  <tbody>\n",
       "    <tr>\n",
       "      <th>service quality</th>\n",
       "      <td>7.812545</td>\n",
       "    </tr>\n",
       "    <tr>\n",
       "      <th>service definitely</th>\n",
       "      <td>7.812545</td>\n",
       "    </tr>\n",
       "    <tr>\n",
       "      <th>favorite mexican</th>\n",
       "      <td>7.812545</td>\n",
       "    </tr>\n",
       "    <tr>\n",
       "      <th>ufc</th>\n",
       "      <td>7.812545</td>\n",
       "    </tr>\n",
       "    <tr>\n",
       "      <th>meat chicken</th>\n",
       "      <td>7.812545</td>\n",
       "    </tr>\n",
       "    <tr>\n",
       "      <th>favors</th>\n",
       "      <td>7.812545</td>\n",
       "    </tr>\n",
       "    <tr>\n",
       "      <th>service poor</th>\n",
       "      <td>7.812545</td>\n",
       "    </tr>\n",
       "    <tr>\n",
       "      <th>feel right</th>\n",
       "      <td>7.812545</td>\n",
       "    </tr>\n",
       "    <tr>\n",
       "      <th>felt little</th>\n",
       "      <td>7.812545</td>\n",
       "    </tr>\n",
       "    <tr>\n",
       "      <th>service terrible</th>\n",
       "      <td>7.812545</td>\n",
       "    </tr>\n",
       "    <tr>\n",
       "      <th>night friends</th>\n",
       "      <td>7.812545</td>\n",
       "    </tr>\n",
       "    <tr>\n",
       "      <th>unbeatable</th>\n",
       "      <td>7.812545</td>\n",
       "    </tr>\n",
       "    <tr>\n",
       "      <th>much longer</th>\n",
       "      <td>7.812545</td>\n",
       "    </tr>\n",
       "    <tr>\n",
       "      <th>blues</th>\n",
       "      <td>7.812545</td>\n",
       "    </tr>\n",
       "    <tr>\n",
       "      <th>filed</th>\n",
       "      <td>7.812545</td>\n",
       "    </tr>\n",
       "    <tr>\n",
       "      <th>sensitive</th>\n",
       "      <td>7.812545</td>\n",
       "    </tr>\n",
       "    <tr>\n",
       "      <th>service super</th>\n",
       "      <td>7.812545</td>\n",
       "    </tr>\n",
       "    <tr>\n",
       "      <th>fate</th>\n",
       "      <td>7.812545</td>\n",
       "    </tr>\n",
       "    <tr>\n",
       "      <th>sending</th>\n",
       "      <td>7.812545</td>\n",
       "    </tr>\n",
       "    <tr>\n",
       "      <th>family friends</th>\n",
       "      <td>7.812545</td>\n",
       "    </tr>\n",
       "  </tbody>\n",
       "</table>\n",
       "</div>"
      ],
      "text/plain": [
       "                       tfidf\n",
       "service quality     7.812545\n",
       "service definitely  7.812545\n",
       "favorite mexican    7.812545\n",
       "ufc                 7.812545\n",
       "meat chicken        7.812545\n",
       "favors              7.812545\n",
       "service poor        7.812545\n",
       "feel right          7.812545\n",
       "felt little         7.812545\n",
       "service terrible    7.812545\n",
       "night friends       7.812545\n",
       "unbeatable          7.812545\n",
       "much longer         7.812545\n",
       "blues               7.812545\n",
       "filed               7.812545\n",
       "sensitive           7.812545\n",
       "service super       7.812545\n",
       "fate                7.812545\n",
       "sending             7.812545\n",
       "family friends      7.812545"
      ]
     },
     "execution_count": 40,
     "metadata": {},
     "output_type": "execute_result"
    }
   ],
   "source": [
    "# high tf-idf good information for our model\n",
    "tfidf.sort_values(by=['tfidf'], ascending=False).head(20)"
   ]
  },
  {
   "cell_type": "markdown",
   "metadata": {},
   "source": [
    "# Create business features"
   ]
  },
  {
   "cell_type": "code",
   "execution_count": 20,
   "metadata": {},
   "outputs": [],
   "source": [
    "business_features = ['veggie','pizza','breakfast','steakhouse','chicken','mediterranean','mexican',\n",
    "                    'chinese','seafood','italian','korean','american','sushi','vietnamese',\n",
    "                    'ufc','sesame chicken','meat chicken','shank','shave','fast food',\n",
    "                    'cafe','dining','bar','barbecue','bistro','food truck','sandwich','blues',\n",
    "                    'self-service','food burger','family','scottsdale','farmer market',\n",
    "                    'cheap','expensive']"
   ]
  },
  {
   "cell_type": "markdown",
   "metadata": {},
   "source": [
    "Note : In a normal project creating a business_features by itself requires several weeks or months"
   ]
  },
  {
   "cell_type": "markdown",
   "metadata": {},
   "source": [
    "# Create business features matrix"
   ]
  },
  {
   "cell_type": "code",
   "execution_count": 7,
   "metadata": {},
   "outputs": [
    {
     "data": {
      "text/plain": [
       "(4174, 35)"
      ]
     },
     "execution_count": 7,
     "metadata": {},
     "output_type": "execute_result"
    }
   ],
   "source": [
    "# Create an empty matrix\n",
    "business_features_df = pd.DataFrame(columns = business_features, index = range(0,data.business_id.nunique()))\n",
    "business_features_df.shape"
   ]
  },
  {
   "cell_type": "code",
   "execution_count": 8,
   "metadata": {},
   "outputs": [],
   "source": [
    "# Fill the matrix with 1 if review includes feature, 0 if not\n",
    "for feature in business_features:\n",
    "    for i in range(data.shape[0]):\n",
    "        if feature in data.text[i]:\n",
    "            business_features_df[feature][i]=1\n",
    "        else: business_features_df[feature][i]=0"
   ]
  },
  {
   "cell_type": "code",
   "execution_count": 75,
   "metadata": {},
   "outputs": [
    {
     "data": {
      "text/html": [
       "<div>\n",
       "<style>\n",
       "    .dataframe thead tr:only-child th {\n",
       "        text-align: right;\n",
       "    }\n",
       "\n",
       "    .dataframe thead th {\n",
       "        text-align: left;\n",
       "    }\n",
       "\n",
       "    .dataframe tbody tr th {\n",
       "        vertical-align: top;\n",
       "    }\n",
       "</style>\n",
       "<table border=\"1\" class=\"dataframe\">\n",
       "  <thead>\n",
       "    <tr style=\"text-align: right;\">\n",
       "      <th></th>\n",
       "      <th>veggie</th>\n",
       "      <th>pizza</th>\n",
       "      <th>breakfast</th>\n",
       "      <th>steakhouse</th>\n",
       "      <th>chicken</th>\n",
       "      <th>mediterranean</th>\n",
       "      <th>mexican</th>\n",
       "      <th>chinese</th>\n",
       "      <th>seafood</th>\n",
       "      <th>italian</th>\n",
       "      <th>...</th>\n",
       "      <th>food truck</th>\n",
       "      <th>sandwich</th>\n",
       "      <th>blues</th>\n",
       "      <th>self-service</th>\n",
       "      <th>food burger</th>\n",
       "      <th>family</th>\n",
       "      <th>scottsdale</th>\n",
       "      <th>farmer market</th>\n",
       "      <th>cheap</th>\n",
       "      <th>expensive</th>\n",
       "    </tr>\n",
       "  </thead>\n",
       "  <tbody>\n",
       "    <tr>\n",
       "      <th>0</th>\n",
       "      <td>0</td>\n",
       "      <td>0</td>\n",
       "      <td>1</td>\n",
       "      <td>0</td>\n",
       "      <td>0</td>\n",
       "      <td>0</td>\n",
       "      <td>0</td>\n",
       "      <td>0</td>\n",
       "      <td>0</td>\n",
       "      <td>0</td>\n",
       "      <td>...</td>\n",
       "      <td>0</td>\n",
       "      <td>0</td>\n",
       "      <td>0</td>\n",
       "      <td>0</td>\n",
       "      <td>0</td>\n",
       "      <td>0</td>\n",
       "      <td>0</td>\n",
       "      <td>0</td>\n",
       "      <td>0</td>\n",
       "      <td>0</td>\n",
       "    </tr>\n",
       "    <tr>\n",
       "      <th>1</th>\n",
       "      <td>0</td>\n",
       "      <td>1</td>\n",
       "      <td>0</td>\n",
       "      <td>0</td>\n",
       "      <td>0</td>\n",
       "      <td>0</td>\n",
       "      <td>0</td>\n",
       "      <td>0</td>\n",
       "      <td>0</td>\n",
       "      <td>0</td>\n",
       "      <td>...</td>\n",
       "      <td>0</td>\n",
       "      <td>0</td>\n",
       "      <td>0</td>\n",
       "      <td>0</td>\n",
       "      <td>0</td>\n",
       "      <td>0</td>\n",
       "      <td>0</td>\n",
       "      <td>0</td>\n",
       "      <td>0</td>\n",
       "      <td>0</td>\n",
       "    </tr>\n",
       "  </tbody>\n",
       "</table>\n",
       "<p>2 rows × 35 columns</p>\n",
       "</div>"
      ],
      "text/plain": [
       "  veggie pizza breakfast steakhouse chicken mediterranean mexican chinese  \\\n",
       "0      0     0         1          0       0             0       0       0   \n",
       "1      0     1         0          0       0             0       0       0   \n",
       "\n",
       "  seafood italian    ...    food truck sandwich blues self-service  \\\n",
       "0       0       0    ...             0        0     0            0   \n",
       "1       0       0    ...             0        0     0            0   \n",
       "\n",
       "  food burger family scottsdale farmer market cheap expensive  \n",
       "0           0      0          0             0     0         0  \n",
       "1           0      0          0             0     0         0  \n",
       "\n",
       "[2 rows x 35 columns]"
      ]
     },
     "execution_count": 75,
     "metadata": {},
     "output_type": "execute_result"
    }
   ],
   "source": [
    "business_features_df.head(2)"
   ]
  },
  {
   "cell_type": "code",
   "execution_count": 76,
   "metadata": {},
   "outputs": [
    {
     "data": {
      "text/html": [
       "<div>\n",
       "<style>\n",
       "    .dataframe thead tr:only-child th {\n",
       "        text-align: right;\n",
       "    }\n",
       "\n",
       "    .dataframe thead th {\n",
       "        text-align: left;\n",
       "    }\n",
       "\n",
       "    .dataframe tbody tr th {\n",
       "        vertical-align: top;\n",
       "    }\n",
       "</style>\n",
       "<table border=\"1\" class=\"dataframe\">\n",
       "  <thead>\n",
       "    <tr style=\"text-align: right;\">\n",
       "      <th></th>\n",
       "      <th>veggie</th>\n",
       "      <th>pizza</th>\n",
       "      <th>breakfast</th>\n",
       "      <th>steakhouse</th>\n",
       "      <th>chicken</th>\n",
       "      <th>mediterranean</th>\n",
       "      <th>mexican</th>\n",
       "      <th>chinese</th>\n",
       "      <th>seafood</th>\n",
       "      <th>italian</th>\n",
       "      <th>...</th>\n",
       "      <th>food truck</th>\n",
       "      <th>sandwich</th>\n",
       "      <th>blues</th>\n",
       "      <th>self-service</th>\n",
       "      <th>food burger</th>\n",
       "      <th>family</th>\n",
       "      <th>scottsdale</th>\n",
       "      <th>farmer market</th>\n",
       "      <th>cheap</th>\n",
       "      <th>expensive</th>\n",
       "    </tr>\n",
       "  </thead>\n",
       "  <tbody>\n",
       "    <tr>\n",
       "      <th>4172</th>\n",
       "      <td>0</td>\n",
       "      <td>0</td>\n",
       "      <td>0</td>\n",
       "      <td>0</td>\n",
       "      <td>0</td>\n",
       "      <td>0</td>\n",
       "      <td>0</td>\n",
       "      <td>0</td>\n",
       "      <td>0</td>\n",
       "      <td>0</td>\n",
       "      <td>...</td>\n",
       "      <td>0</td>\n",
       "      <td>0</td>\n",
       "      <td>0</td>\n",
       "      <td>0</td>\n",
       "      <td>0</td>\n",
       "      <td>0</td>\n",
       "      <td>0</td>\n",
       "      <td>0</td>\n",
       "      <td>0</td>\n",
       "      <td>0</td>\n",
       "    </tr>\n",
       "    <tr>\n",
       "      <th>4173</th>\n",
       "      <td>0</td>\n",
       "      <td>0</td>\n",
       "      <td>0</td>\n",
       "      <td>0</td>\n",
       "      <td>1</td>\n",
       "      <td>0</td>\n",
       "      <td>0</td>\n",
       "      <td>0</td>\n",
       "      <td>0</td>\n",
       "      <td>0</td>\n",
       "      <td>...</td>\n",
       "      <td>0</td>\n",
       "      <td>1</td>\n",
       "      <td>0</td>\n",
       "      <td>0</td>\n",
       "      <td>0</td>\n",
       "      <td>0</td>\n",
       "      <td>0</td>\n",
       "      <td>0</td>\n",
       "      <td>1</td>\n",
       "      <td>0</td>\n",
       "    </tr>\n",
       "  </tbody>\n",
       "</table>\n",
       "<p>2 rows × 35 columns</p>\n",
       "</div>"
      ],
      "text/plain": [
       "     veggie pizza breakfast steakhouse chicken mediterranean mexican chinese  \\\n",
       "4172      0     0         0          0       0             0       0       0   \n",
       "4173      0     0         0          0       1             0       0       0   \n",
       "\n",
       "     seafood italian    ...    food truck sandwich blues self-service  \\\n",
       "4172       0       0    ...             0        0     0            0   \n",
       "4173       0       0    ...             0        1     0            0   \n",
       "\n",
       "     food burger family scottsdale farmer market cheap expensive  \n",
       "4172           0      0          0             0     0         0  \n",
       "4173           0      0          0             0     1         0  \n",
       "\n",
       "[2 rows x 35 columns]"
      ]
     },
     "execution_count": 76,
     "metadata": {},
     "output_type": "execute_result"
    }
   ],
   "source": [
    "business_features_df.tail(2)"
   ]
  },
  {
   "cell_type": "code",
   "execution_count": 107,
   "metadata": {},
   "outputs": [
    {
     "data": {
      "text/plain": [
       "'/Users/muratyalcin/Desktop/Data Science/challenge'"
      ]
     },
     "execution_count": 107,
     "metadata": {},
     "output_type": "execute_result"
    }
   ],
   "source": [
    "import os\n",
    "os.getcwd()"
   ]
  },
  {
   "cell_type": "code",
   "execution_count": 7,
   "metadata": {},
   "outputs": [],
   "source": [
    "business_features_df.to_csv('business_features_df.csv')"
   ]
  },
  {
   "cell_type": "code",
   "execution_count": 21,
   "metadata": {},
   "outputs": [],
   "source": [
    "business_features_df = pd.read_csv('business_features_df.csv', index_col=0)"
   ]
  },
  {
   "cell_type": "code",
   "execution_count": 9,
   "metadata": {},
   "outputs": [
    {
     "data": {
      "text/plain": [
       "[]"
      ]
     },
     "execution_count": 9,
     "metadata": {},
     "output_type": "execute_result"
    }
   ],
   "source": [
    "# Let's find features not helpful (include no business, nunique=1)\n",
    "const_cols = [c for c in business_features_df.columns if business_features_df[c].nunique(dropna=False)==1 ]\n",
    "const_cols"
   ]
  },
  {
   "cell_type": "markdown",
   "metadata": {},
   "source": [
    "I removed constant columns because they were useless. Now we don't have constant columns. Great!!! Business features represent at least one business. "
   ]
  },
  {
   "cell_type": "code",
   "execution_count": 69,
   "metadata": {},
   "outputs": [
    {
     "data": {
      "text/plain": [
       "2152"
      ]
     },
     "execution_count": 69,
     "metadata": {},
     "output_type": "execute_result"
    }
   ],
   "source": [
    "sum(business_features_df.sum(axis=1)==0)"
   ]
  },
  {
   "cell_type": "markdown",
   "metadata": {},
   "source": [
    "I shuttled between business features and how many businesses that I covered with these features. Initially, 3047 businesses represented neither of these features. I found more features and check the number businesses represented by these features. After several back and forths, finally I was able to lower the number to the 2152. It means that with current business features, 2152 businesses can not be classified. As I mentioned before this step requires more time and effort."
   ]
  },
  {
   "cell_type": "markdown",
   "metadata": {},
   "source": [
    "# Auto Encoders"
   ]
  },
  {
   "cell_type": "code",
   "execution_count": 24,
   "metadata": {},
   "outputs": [],
   "source": [
    "#load data\n",
    "data = pd.read_csv('dataset_food_online.txt', sep=',', encoding = 'latin-1')"
   ]
  },
  {
   "cell_type": "code",
   "execution_count": 25,
   "metadata": {},
   "outputs": [],
   "source": [
    "from sklearn.preprocessing import LabelEncoder\n",
    "labelbusines = LabelEncoder()\n",
    "labelreview = LabelEncoder()\n",
    "labeluser = LabelEncoder()\n",
    "data.business_id = labelbusines.fit_transform(data.business_id)\n",
    "data.review_id = labelreview.fit_transform(data.review_id)\n",
    "data.user_id = labeluser.fit_transform(data.user_id)"
   ]
  },
  {
   "cell_type": "code",
   "execution_count": 26,
   "metadata": {},
   "outputs": [],
   "source": [
    "data = data.sort_values('user_id')"
   ]
  },
  {
   "cell_type": "code",
   "execution_count": 27,
   "metadata": {},
   "outputs": [],
   "source": [
    "# split data as a train and test\n",
    "from sklearn.model_selection import train_test_split\n",
    "train, test = train_test_split(data, test_size=0.5)"
   ]
  },
  {
   "cell_type": "code",
   "execution_count": 28,
   "metadata": {},
   "outputs": [],
   "source": [
    "# Getting the number of users and businesses\n",
    "nb_users = data.user_id.nunique()\n",
    "nb_business = data.business_id.nunique()\n",
    "# Converting the data into an array with customers in lines and businesses in columns\n",
    "def convert(data):\n",
    "    new_data = []\n",
    "    for id_users in range(nb_users):\n",
    "        id_business = data.business_id[data.user_id == id_users]\n",
    "        id_ratings = data.stars[data.user_id == id_users]\n",
    "        ratings = np.zeros(nb_business)\n",
    "        ratings[id_business] = id_ratings\n",
    "        new_data.append(list(ratings))\n",
    "    return new_data"
   ]
  },
  {
   "cell_type": "code",
   "execution_count": 29,
   "metadata": {},
   "outputs": [],
   "source": [
    "# convert train and test data sets \n",
    "training_set = convert(train)\n",
    "test_set = convert(test)"
   ]
  },
  {
   "cell_type": "code",
   "execution_count": 38,
   "metadata": {},
   "outputs": [],
   "source": [
    "# Converting the data into Torch tensors\n",
    "training_set = torch.FloatTensor(training_set)\n",
    "test_set = torch.FloatTensor(test_set)\n",
    "\n",
    "# Creating the architecture of the Neural Network\n",
    "class SAE(nn.Module):\n",
    "    def __init__(self, ):\n",
    "        super(SAE, self).__init__()\n",
    "        self.fc1 = nn.Linear(nb_business, 20)\n",
    "        self.fc2 = nn.Linear(20, 10)\n",
    "        self.fc3 = nn.Linear(10, 20)\n",
    "        self.fc4 = nn.Linear(20, nb_business)\n",
    "        self.activation = nn.Sigmoid()\n",
    "    def forward(self, x):\n",
    "        x = self.activation(self.fc1(x))\n",
    "        x = self.activation(self.fc2(x))\n",
    "        x = self.activation(self.fc3(x))\n",
    "        x = self.fc4(x)\n",
    "        return x\n",
    "    def save(self):\n",
    "        torch.save({'state_dict': self.rbm.state_dict(),\n",
    "                    'optimizer' : self.optimizer.state_dict(),\n",
    "                   }, 'last_brain.pth')\n",
    "\n",
    "    def load(self):\n",
    "        if os.path.isfile('last_brain.pth'):\n",
    "            print(\"=> loading checkpoint... \")\n",
    "            checkpoint = torch.load('last_brain.pth')\n",
    "            self.model.load_state_dict(checkpoint['state_dict'])\n",
    "            self.optimizer.load_state_dict(checkpoint['optimizer'])\n",
    "            print(\"done !\")\n",
    "        else:\n",
    "            print(\"no checkpoint found...\")\n",
    "sae = SAE()\n",
    "criterion = nn.MSELoss()\n",
    "optimizer = optim.RMSprop(sae.parameters(), lr = 0.01, weight_decay = 0.5)"
   ]
  },
  {
   "cell_type": "code",
   "execution_count": 39,
   "metadata": {},
   "outputs": [
    {
     "name": "stderr",
     "output_type": "stream",
     "text": [
      "/Users/muratyalcin/anaconda3/lib/python3.6/site-packages/ipykernel_launcher.py:16: UserWarning: invalid index of a 0-dim tensor. This will be an error in PyTorch 0.5. Use tensor.item() to convert a 0-dim tensor to a Python number\n",
      "  app.launch_new_instance()\n"
     ]
    },
    {
     "name": "stdout",
     "output_type": "stream",
     "text": [
      "epoch: 1 loss: tensor(3.7719)\n",
      "epoch: 2 loss: tensor(3.6825)\n",
      "epoch: 3 loss: tensor(3.6058)\n",
      "epoch: 4 loss: tensor(3.4692)\n",
      "epoch: 5 loss: tensor(3.3425)\n",
      "epoch: 6 loss: tensor(3.1515)\n",
      "epoch: 7 loss: tensor(3.0109)\n",
      "epoch: 8 loss: tensor(2.8360)\n",
      "epoch: 9 loss: tensor(2.7305)\n",
      "epoch: 10 loss: tensor(2.5877)\n",
      "epoch: 11 loss: tensor(2.5084)\n",
      "epoch: 12 loss: tensor(2.3876)\n",
      "epoch: 13 loss: tensor(2.3250)\n",
      "epoch: 14 loss: tensor(2.2195)\n",
      "epoch: 15 loss: tensor(2.1689)\n",
      "epoch: 16 loss: tensor(2.0753)\n",
      "epoch: 17 loss: tensor(2.0342)\n",
      "epoch: 18 loss: tensor(1.9498)\n",
      "epoch: 19 loss: tensor(1.9162)\n",
      "epoch: 20 loss: tensor(1.8389)\n",
      "epoch: 21 loss: tensor(1.8110)\n",
      "epoch: 22 loss: tensor(1.7402)\n",
      "epoch: 23 loss: tensor(1.7168)\n",
      "epoch: 24 loss: tensor(1.6519)\n",
      "epoch: 25 loss: tensor(1.6324)\n",
      "epoch: 26 loss: tensor(1.5723)\n",
      "epoch: 27 loss: tensor(1.5562)\n",
      "epoch: 28 loss: tensor(1.4999)\n",
      "epoch: 29 loss: tensor(1.4867)\n",
      "epoch: 30 loss: tensor(1.4338)\n",
      "epoch: 31 loss: tensor(1.4233)\n",
      "epoch: 32 loss: tensor(1.3737)\n",
      "epoch: 33 loss: tensor(1.3656)\n",
      "epoch: 34 loss: tensor(1.3187)\n",
      "epoch: 35 loss: tensor(1.3125)\n",
      "epoch: 36 loss: tensor(1.2684)\n",
      "epoch: 37 loss: tensor(1.2636)\n",
      "epoch: 38 loss: tensor(1.2223)\n",
      "epoch: 39 loss: tensor(1.2190)\n",
      "epoch: 40 loss: tensor(1.1801)\n",
      "epoch: 41 loss: tensor(1.1779)\n",
      "epoch: 42 loss: tensor(1.1408)\n",
      "epoch: 43 loss: tensor(1.1396)\n",
      "epoch: 44 loss: tensor(1.1044)\n",
      "epoch: 45 loss: tensor(1.1041)\n",
      "epoch: 46 loss: tensor(1.0703)\n",
      "epoch: 47 loss: tensor(1.0708)\n",
      "epoch: 48 loss: tensor(1.0384)\n",
      "epoch: 49 loss: tensor(1.0397)\n",
      "epoch: 50 loss: tensor(1.0086)\n"
     ]
    }
   ],
   "source": [
    "# Training the SAE\n",
    "nb_epoch = 50\n",
    "for epoch in range(1, nb_epoch + 1):\n",
    "    train_loss = 0\n",
    "    s = 0.\n",
    "    for id_user in range(nb_users):\n",
    "        input = Variable(training_set[id_user]).unsqueeze(0)\n",
    "        target = input.clone()\n",
    "        if torch.sum(target.data > 0) > 0:\n",
    "            output = sae(input)\n",
    "            target.require_grad = False\n",
    "            output[target == 0] = 0\n",
    "            loss = criterion(output, target)\n",
    "            mean_corrector = nb_business/float(torch.sum(target.data > 0) + 1e-10)\n",
    "            loss.backward()\n",
    "            train_loss += np.sqrt(loss.data[0]*mean_corrector)\n",
    "            s += 1.\n",
    "            optimizer.step()\n",
    "    print('epoch: '+str(epoch)+' loss: '+str(train_loss/s))\n"
   ]
  },
  {
   "cell_type": "code",
   "execution_count": 62,
   "metadata": {},
   "outputs": [
    {
     "name": "stderr",
     "output_type": "stream",
     "text": [
      "/Users/muratyalcin/anaconda3/lib/python3.6/site-packages/ipykernel_launcher.py:13: UserWarning: invalid index of a 0-dim tensor. This will be an error in PyTorch 0.5. Use tensor.item() to convert a 0-dim tensor to a Python number\n",
      "  del sys.path[0]\n"
     ]
    },
    {
     "name": "stdout",
     "output_type": "stream",
     "text": [
      "test loss: tensor(2.1177)\n"
     ]
    }
   ],
   "source": [
    "# Testing the SAE\n",
    "test_loss = 0\n",
    "s = 0.\n",
    "for id_user in range(nb_users):\n",
    "    input = Variable(training_set[id_user]).unsqueeze(0)\n",
    "    target = Variable(test_set[id_user])\n",
    "    if torch.sum(target.data > 0) > 0:\n",
    "        output = sae(input)\n",
    "        target.require_grad = False\n",
    "        output[0][target == 0] = 0\n",
    "        loss = criterion(output[0], target)\n",
    "        mean_corrector = nb_business/float(torch.sum(target.data > 0) + 1e-10)\n",
    "        test_loss += np.sqrt(loss.data[0]*mean_corrector)\n",
    "        s += 1.\n",
    "print('test loss: '+str(test_loss/s))"
   ]
  },
  {
   "cell_type": "markdown",
   "metadata": {},
   "source": [
    "## Start Building a Model"
   ]
  },
  {
   "cell_type": "code",
   "execution_count": 22,
   "metadata": {},
   "outputs": [],
   "source": [
    "input = 'Veggie pizza pizza place, kid\"s playground'"
   ]
  },
  {
   "cell_type": "code",
   "execution_count": 27,
   "metadata": {},
   "outputs": [],
   "source": [
    "# Tokenize input\n",
    "tokens = tokenize(input)"
   ]
  },
  {
   "cell_type": "code",
   "execution_count": 28,
   "metadata": {},
   "outputs": [
    {
     "data": {
      "text/plain": [
       "['veggie', 'pizza', 'pizza', 'place', 'kid', 'playground']"
      ]
     },
     "execution_count": 28,
     "metadata": {},
     "output_type": "execute_result"
    }
   ],
   "source": [
    "tokens"
   ]
  },
  {
   "cell_type": "code",
   "execution_count": 29,
   "metadata": {},
   "outputs": [
    {
     "data": {
      "text/plain": [
       "['pizza', 'veggie']"
      ]
     },
     "execution_count": 29,
     "metadata": {},
     "output_type": "execute_result"
    }
   ],
   "source": [
    "# Find non duplicate matches\n",
    "matches = list({x for x in tokens if x in business_features})\n",
    "matches"
   ]
  },
  {
   "cell_type": "code",
   "execution_count": 30,
   "metadata": {},
   "outputs": [],
   "source": [
    "business_features_df = pd.read_csv('business_features_df.csv', index_col=0)"
   ]
  },
  {
   "cell_type": "markdown",
   "metadata": {},
   "source": [
    "# Pull the businesses with these features"
   ]
  },
  {
   "cell_type": "code",
   "execution_count": 31,
   "metadata": {},
   "outputs": [],
   "source": [
    "business = []\n",
    "for i in range(business_features_df.shape[0]):\n",
    "    if (business_features_df[matches] == 1).iloc[i].sum()==1:\n",
    "        business.append(i)"
   ]
  },
  {
   "cell_type": "code",
   "execution_count": 32,
   "metadata": {},
   "outputs": [],
   "source": [
    "business_index = business_features_df.iloc[business].index"
   ]
  },
  {
   "cell_type": "markdown",
   "metadata": {},
   "source": [
    "# Now predict with RBM, whether customer will like these restaurants or not"
   ]
  },
  {
   "cell_type": "markdown",
   "metadata": {},
   "source": [
    "# Bolzman Prediction"
   ]
  },
  {
   "cell_type": "code",
   "execution_count": 37,
   "metadata": {},
   "outputs": [],
   "source": [
    "data1 = pd.read_csv('dataset_food_online.txt', sep=',', encoding = 'latin-1')"
   ]
  },
  {
   "cell_type": "code",
   "execution_count": 38,
   "metadata": {},
   "outputs": [],
   "source": [
    "from sklearn.preprocessing import LabelEncoder\n",
    "labelbusines = LabelEncoder()\n",
    "labelreview = LabelEncoder()\n",
    "labeluser = LabelEncoder()\n",
    "data1.business_id = labelbusines.fit_transform(data1.business_id)\n",
    "data1.review_id = labelreview.fit_transform(data1.review_id)\n",
    "data1.user_id = labeluser.fit_transform(data1.user_id)\n",
    "data1 = data1.sort_values('user_id')"
   ]
  },
  {
   "cell_type": "code",
   "execution_count": 5,
   "metadata": {},
   "outputs": [],
   "source": [
    "data = pd.read_csv('dataset_food_online.txt', sep=',', encoding = 'latin-1')"
   ]
  },
  {
   "cell_type": "code",
   "execution_count": 6,
   "metadata": {},
   "outputs": [],
   "source": [
    "from sklearn.preprocessing import LabelEncoder\n",
    "labelbusines = LabelEncoder()\n",
    "labelreview = LabelEncoder()\n",
    "labeluser = LabelEncoder()\n",
    "data.business_id = labelbusines.fit_transform(data.business_id)\n",
    "data.review_id = labelreview.fit_transform(data.review_id)\n",
    "data.user_id = labeluser.fit_transform(data.user_id)"
   ]
  },
  {
   "cell_type": "code",
   "execution_count": 7,
   "metadata": {},
   "outputs": [],
   "source": [
    "data = data.sort_values('user_id')"
   ]
  },
  {
   "cell_type": "code",
   "execution_count": 8,
   "metadata": {},
   "outputs": [],
   "source": [
    "# Getting the number of users and businesses\n",
    "nb_users = data.user_id.nunique()\n",
    "nb_business = data.business_id.nunique()\n",
    "\n",
    "# Converting the data into an array with customers in lines and businesses in columns\n",
    "def convert(data):\n",
    "    new_data = []\n",
    "    for id_users in range(nb_users):\n",
    "        id_business = data.business_id[data.user_id == id_users]\n",
    "        id_ratings = data.stars[data.user_id == id_users]\n",
    "        ratings = np.zeros(nb_business)\n",
    "        ratings[id_business] = id_ratings\n",
    "        new_data.append(list(ratings))\n",
    "    return new_data"
   ]
  },
  {
   "cell_type": "code",
   "execution_count": 9,
   "metadata": {},
   "outputs": [],
   "source": [
    "data = convert(data)"
   ]
  },
  {
   "cell_type": "code",
   "execution_count": 10,
   "metadata": {},
   "outputs": [],
   "source": [
    "import torch\n",
    "import torch.nn as nn\n",
    "import torch.nn.parallel\n",
    "import torch.optim as optim\n",
    "import torch.utils.data\n",
    "from torch.autograd import Variable"
   ]
  },
  {
   "cell_type": "code",
   "execution_count": 11,
   "metadata": {},
   "outputs": [],
   "source": [
    "# Converting the data into Torch tensors\n",
    "data = torch.FloatTensor(data)\n",
    "\n",
    "# Converting the ratings into binary ratings 1 (Liked) or 0 (Not Liked)\n",
    "data[data == 0] = -1\n",
    "data[data == 1] = 0\n",
    "data[data == 2] = 0\n",
    "data[data >= 3] = 1\n",
    "\n",
    "# Creating the architecture of the Neural Network\n",
    "class RBM():\n",
    "    def __init__(self, nv, nh): # nv = number of visible nodes, vh = number of hidden nodes\n",
    "        # initialize weights and bias using torch random number generator\n",
    "        self.W = torch.randn(nh, nv)\n",
    "        self.a = torch.randn(1, nh) # bias for hidden nodes\n",
    "        self.b = torch.randn(1, nv) # bias for visible nodes\n",
    "    def sample_h(self, x): # x = visible neurons v, in the probabilities (ph given v (sigmoid))\n",
    "        wx = torch.mm(x, self.W.t())\n",
    "        activation = wx + self.a.expand_as(wx) # add bias\n",
    "        p_h_given_v = torch.sigmoid(activation) # apply activation\n",
    "        return p_h_given_v, torch.bernoulli(p_h_given_v)\n",
    "    def sample_v(self, y):\n",
    "        wy = torch.mm(y, self.W)\n",
    "        activation = wy + self.b.expand_as(wy)\n",
    "        p_v_given_h = torch.sigmoid(activation)\n",
    "        return p_v_given_h, torch.bernoulli(p_v_given_h)\n",
    "    def train(self, v0, vk, ph0, phk):\n",
    "        #self.W += torch.mm(v0.t(), ph0) - torch.mm(vk.t(), phk)\n",
    "        self.W += (torch.mm(v0.t(),ph0) - torch.mm(vk.t(),phk)).t()\n",
    "        self.b += torch.sum((v0 - vk), 0)\n",
    "        self.a += torch.sum((ph0 - phk), 0)\n",
    "    def save(self):\n",
    "        torch.save({'state_dict': self.rbm.state_dict(),\n",
    "                    'optimizer' : self.optimizer.state_dict(),\n",
    "                   }, 'last_brain.pth')\n",
    "\n",
    "    def load(self):\n",
    "        if os.path.isfile('last_brain.pth'):\n",
    "            print(\"=> loading checkpoint... \")\n",
    "            checkpoint = torch.load('last_brain.pth')\n",
    "            self.model.load_state_dict(checkpoint['state_dict'])\n",
    "            self.optimizer.load_state_dict(checkpoint['optimizer'])\n",
    "            print(\"done !\")\n",
    "        else:\n",
    "            print(\"no checkpoint found...\")\n",
    "    def save_checkpoint(state, is_best, filename='checkpoint.pth.tar'):\n",
    "        torch.save(state, filename)\n",
    "        if is_best:\n",
    "            shutil.copyfile(filename, 'model_best.pth.tar')\n",
    "            \n",
    "nv = len(data[0])\n",
    "nh = 20 # tune this paramater\n",
    "batch_size = 2000 # tune this paramater\n",
    "rbm = RBM(nv, nh)\n"
   ]
  },
  {
   "cell_type": "code",
   "execution_count": 12,
   "metadata": {},
   "outputs": [
    {
     "name": "stdout",
     "output_type": "stream",
     "text": [
      "epoch: 1 loss: tensor(0.4472)\n",
      "epoch: 2 loss: tensor(0.3005)\n",
      "epoch: 3 loss: tensor(0.2570)\n",
      "epoch: 4 loss: tensor(0.2315)\n",
      "epoch: 5 loss: tensor(0.2068)\n",
      "epoch: 6 loss: tensor(0.1985)\n",
      "epoch: 7 loss: tensor(0.1959)\n",
      "epoch: 8 loss: tensor(0.1836)\n",
      "epoch: 9 loss: tensor(0.1807)\n",
      "epoch: 10 loss: tensor(0.1747)\n"
     ]
    }
   ],
   "source": [
    "# Training the RBM\n",
    "nb_epoch = 10 # tune this paramater\n",
    "for epoch in range(1, nb_epoch + 1):\n",
    "    train_loss = 0\n",
    "    s = 0.\n",
    "#     print('s =',s)\n",
    "    for id_user in range(0, nb_users - batch_size, batch_size):\n",
    "        #print('id_user =,',id_user)\n",
    "        vk = data[id_user:id_user+batch_size]\n",
    "#         print('vk',vk)\n",
    "        v0 = data[id_user:id_user+batch_size]\n",
    "#         print('v0',v0)\n",
    "        ph0,_ = rbm.sample_h(v0)\n",
    "#         print(ph0)\n",
    "        for k in range(10):\n",
    "            _,hk = rbm.sample_h(vk)\n",
    "            _,vk = rbm.sample_v(hk)\n",
    "            vk[v0<0] = v0[v0<0]\n",
    "        phk,_ = rbm.sample_h(vk)\n",
    "#         print('phk',phk)\n",
    "        rbm.train(v0, vk, ph0, phk)\n",
    "        train_loss += torch.mean(torch.abs(v0[v0>=0] - vk[v0>=0]))\n",
    "        s += 1.\n",
    "    print('epoch: '+str(epoch)+' loss: '+str(train_loss/s))"
   ]
  },
  {
   "cell_type": "code",
   "execution_count": 13,
   "metadata": {},
   "outputs": [],
   "source": [
    "def predict(id_user):\n",
    "    v = data[id_user:id_user+1]\n",
    "    #vt = test_set[id_user:id_user+1]\n",
    "    _,h = rbm.sample_h(v)\n",
    "    _,v = rbm.sample_v(h) \n",
    "    return v"
   ]
  },
  {
   "cell_type": "code",
   "execution_count": 14,
   "metadata": {},
   "outputs": [
    {
     "data": {
      "text/plain": [
       "tensor([[1., 1., 0.,  ..., 1., 1., 1.]])"
      ]
     },
     "execution_count": 14,
     "metadata": {},
     "output_type": "execute_result"
    }
   ],
   "source": [
    "id_user = 0\n",
    "prediction = predict(id_user)\n",
    "prediction"
   ]
  },
  {
   "cell_type": "code",
   "execution_count": 33,
   "metadata": {},
   "outputs": [
    {
     "data": {
      "text/plain": [
       "array([ True,  True,  True,  True, False,  True, False,  True,  True,\n",
       "        True,  True,  True, False,  True,  True,  True,  True, False,\n",
       "        True, False, False, False,  True, False,  True,  True,  True,\n",
       "        True,  True, False, False,  True,  True,  True,  True,  True,\n",
       "       False,  True,  True,  True,  True, False,  True,  True,  True,\n",
       "       False, False, False,  True,  True, False,  True,  True,  True,\n",
       "       False,  True,  True,  True, False, False,  True,  True, False,\n",
       "        True,  True,  True,  True,  True,  True,  True, False,  True,\n",
       "        True, False, False,  True, False, False,  True,  True,  True,\n",
       "        True,  True, False, False,  True,  True,  True,  True,  True,\n",
       "        True,  True,  True, False, False,  True,  True,  True,  True,\n",
       "        True, False, False,  True,  True, False, False,  True,  True,\n",
       "        True,  True,  True,  True, False,  True,  True,  True,  True,\n",
       "       False,  True,  True, False,  True,  True,  True,  True, False,\n",
       "       False, False,  True,  True,  True, False, False,  True,  True,\n",
       "        True,  True, False,  True,  True, False,  True,  True, False,\n",
       "        True, False,  True,  True, False,  True, False,  True,  True,\n",
       "        True,  True, False,  True,  True,  True,  True,  True, False,\n",
       "        True,  True, False, False, False,  True, False,  True,  True,\n",
       "        True,  True,  True,  True,  True,  True,  True,  True,  True,\n",
       "        True,  True,  True,  True,  True, False,  True,  True,  True,\n",
       "        True,  True,  True,  True,  True,  True,  True,  True, False,\n",
       "        True,  True, False,  True,  True,  True,  True,  True, False,\n",
       "       False,  True,  True,  True, False,  True,  True, False, False,\n",
       "       False,  True,  True, False,  True,  True,  True,  True,  True,\n",
       "        True, False,  True,  True,  True, False,  True,  True,  True,\n",
       "        True,  True,  True,  True,  True, False,  True, False,  True,\n",
       "        True,  True, False,  True,  True,  True,  True,  True, False,\n",
       "       False,  True, False,  True, False,  True,  True,  True, False,\n",
       "        True, False,  True, False,  True, False, False,  True,  True,\n",
       "        True,  True,  True, False,  True,  True, False, False, False,\n",
       "        True,  True,  True,  True,  True, False, False,  True,  True,\n",
       "        True, False,  True,  True,  True,  True,  True,  True,  True,\n",
       "        True,  True,  True, False,  True,  True,  True,  True, False,\n",
       "        True,  True, False, False,  True,  True,  True,  True,  True,\n",
       "        True, False, False, False, False,  True, False,  True,  True,\n",
       "        True,  True,  True,  True,  True,  True,  True,  True, False,\n",
       "        True, False,  True, False, False,  True,  True,  True, False,\n",
       "        True,  True,  True,  True,  True,  True,  True, False,  True,\n",
       "        True,  True,  True,  True,  True,  True,  True, False,  True,\n",
       "        True,  True, False,  True,  True,  True,  True, False,  True,\n",
       "       False, False,  True, False,  True,  True,  True,  True,  True,\n",
       "        True,  True, False,  True,  True,  True, False,  True, False,\n",
       "        True,  True,  True, False,  True])"
      ]
     },
     "execution_count": 33,
     "metadata": {},
     "output_type": "execute_result"
    }
   ],
   "source": [
    "# get the businesses match with the user search and user will like\n",
    "a = np.array(prediction[0][business_index])\n",
    "b =a.astype(bool)\n",
    "b"
   ]
  },
  {
   "cell_type": "code",
   "execution_count": 34,
   "metadata": {},
   "outputs": [
    {
     "data": {
      "text/plain": [
       "Int64Index([   1,    5,   12,   15,   44,  108,  116,  138,  175,  179,\n",
       "            ...\n",
       "            4070, 4071, 4105, 4108, 4114, 4131, 4134, 4150, 4166, 4171],\n",
       "           dtype='int64', length=283)"
      ]
     },
     "execution_count": 34,
     "metadata": {},
     "output_type": "execute_result"
    }
   ],
   "source": [
    "business_index[b]"
   ]
  },
  {
   "cell_type": "code",
   "execution_count": 39,
   "metadata": {},
   "outputs": [],
   "source": [
    "# get the businesses with the highest rating and recommend to the customer\n",
    "recommendation = data1.groupby('business_id').stars.mean().loc[business_index[b]].sort_values(ascending = False).index[:3]"
   ]
  },
  {
   "cell_type": "code",
   "execution_count": 41,
   "metadata": {},
   "outputs": [
    {
     "data": {
      "text/plain": [
       "[4171, 2043, 578]"
      ]
     },
     "execution_count": 41,
     "metadata": {},
     "output_type": "execute_result"
    }
   ],
   "source": [
    "list(recommendation)"
   ]
  },
  {
   "cell_type": "markdown",
   "metadata": {},
   "source": [
    "# If search is not in features, Recommend with Auto Encoders"
   ]
  },
  {
   "cell_type": "markdown",
   "metadata": {},
   "source": [
    "# Auto Encoders"
   ]
  },
  {
   "cell_type": "markdown",
   "metadata": {},
   "source": [
    "Until this point, all steps are the same with the Bolzman Machine"
   ]
  },
  {
   "cell_type": "code",
   "execution_count": 14,
   "metadata": {},
   "outputs": [],
   "source": [
    "# Converting the data into Torch tensors\n",
    "data = torch.FloatTensor(data)"
   ]
  },
  {
   "cell_type": "code",
   "execution_count": 15,
   "metadata": {},
   "outputs": [],
   "source": [
    "# Creating the architecture of the Neural Network\n",
    "class SAE(nn.Module):\n",
    "    def __init__(self, ):\n",
    "        super(SAE, self).__init__()\n",
    "        self.fc1 = nn.Linear(nb_business, 20)\n",
    "        self.fc2 = nn.Linear(20, 10)\n",
    "        self.fc3 = nn.Linear(10, 20)\n",
    "        self.fc4 = nn.Linear(20, nb_business)\n",
    "        self.activation = nn.Sigmoid()\n",
    "    def forward(self, x):\n",
    "        x = self.activation(self.fc1(x))\n",
    "        x = self.activation(self.fc2(x))\n",
    "        x = self.activation(self.fc3(x))\n",
    "        x = self.fc4(x)\n",
    "        return x\n",
    "    def save(self):\n",
    "        torch.save({'state_dict': self.rbm.state_dict(),\n",
    "                    'optimizer' : self.optimizer.state_dict(),\n",
    "                   }, 'last_brain.pth')\n",
    "\n",
    "    def load(self):\n",
    "        if os.path.isfile('last_brain.pth'):\n",
    "            print(\"=> loading checkpoint... \")\n",
    "            checkpoint = torch.load('last_brain.pth')\n",
    "            self.model.load_state_dict(checkpoint['state_dict'])\n",
    "            self.optimizer.load_state_dict(checkpoint['optimizer'])\n",
    "            print(\"done !\")\n",
    "        else:\n",
    "            print(\"no checkpoint found...\")\n",
    "sae = SAE()\n",
    "criterion = nn.MSELoss()\n",
    "optimizer = optim.RMSprop(sae.parameters(), lr = 0.01, weight_decay = 0.5)"
   ]
  },
  {
   "cell_type": "code",
   "execution_count": 16,
   "metadata": {},
   "outputs": [
    {
     "name": "stderr",
     "output_type": "stream",
     "text": [
      "/Users/muratyalcin/anaconda3/lib/python3.6/site-packages/ipykernel_launcher.py:16: UserWarning: invalid index of a 0-dim tensor. This will be an error in PyTorch 0.5. Use tensor.item() to convert a 0-dim tensor to a Python number\n",
      "  app.launch_new_instance()\n"
     ]
    },
    {
     "name": "stdout",
     "output_type": "stream",
     "text": [
      "epoch: 1 loss: tensor(3.7606)\n",
      "epoch: 2 loss: tensor(3.5919)\n",
      "epoch: 3 loss: tensor(3.3643)\n",
      "epoch: 4 loss: tensor(3.0679)\n",
      "epoch: 5 loss: tensor(2.8436)\n",
      "epoch: 6 loss: tensor(2.6379)\n",
      "epoch: 7 loss: tensor(2.4961)\n",
      "epoch: 8 loss: tensor(2.3495)\n",
      "epoch: 9 loss: tensor(2.2483)\n",
      "epoch: 10 loss: tensor(2.1352)\n"
     ]
    }
   ],
   "source": [
    "# Training the SAE\n",
    "nb_epoch = 10\n",
    "for epoch in range(1, nb_epoch + 1):\n",
    "    train_loss = 0\n",
    "    s = 0.\n",
    "    for id_user in range(nb_users):\n",
    "        input = Variable(data[id_user]).unsqueeze(0)\n",
    "        target = input.clone()\n",
    "        if torch.sum(target.data > 0) > 0:\n",
    "            output = sae(input)\n",
    "            target.require_grad = False\n",
    "            output[target == 0] = 0\n",
    "            loss = criterion(output, target)\n",
    "            mean_corrector = nb_business/float(torch.sum(target.data > 0) + 1e-10)\n",
    "            loss.backward()\n",
    "            train_loss += np.sqrt(loss.data[0]*mean_corrector)\n",
    "            s += 1.\n",
    "            optimizer.step()\n",
    "    print('epoch: '+str(epoch)+' loss: '+str(train_loss/s))\n"
   ]
  },
  {
   "cell_type": "code",
   "execution_count": 17,
   "metadata": {},
   "outputs": [],
   "source": [
    "# Testing the SAE\n",
    "def predictAE(id_user):\n",
    "    input = Variable(data[id_user]).unsqueeze(0)\n",
    "    output = sae(input)\n",
    "    return output"
   ]
  },
  {
   "cell_type": "code",
   "execution_count": 18,
   "metadata": {},
   "outputs": [
    {
     "data": {
      "text/plain": [
       "tensor([[0.6030, 0.4843, 0.1525,  ..., 1.4676, 0.5593, 0.8115]],\n",
       "       grad_fn=<ThAddmmBackward>)"
      ]
     },
     "execution_count": 18,
     "metadata": {},
     "output_type": "execute_result"
    }
   ],
   "source": [
    "id_user = 0\n",
    "result = predictAE(id_user)\n",
    "result"
   ]
  },
  {
   "cell_type": "code",
   "execution_count": 19,
   "metadata": {},
   "outputs": [
    {
     "data": {
      "text/plain": [
       "array([0.6029761 , 0.4842577 , 0.15247007, ..., 1.4675696 , 0.55928624,\n",
       "       0.8115103 ], dtype=float32)"
      ]
     },
     "execution_count": 19,
     "metadata": {},
     "output_type": "execute_result"
    }
   ],
   "source": [
    "result = result[0].detach().numpy()\n",
    "result"
   ]
  },
  {
   "cell_type": "code",
   "execution_count": 20,
   "metadata": {},
   "outputs": [
    {
     "data": {
      "text/plain": [
       "array([2224, 4114, 1367,  833, 3626])"
      ]
     },
     "execution_count": 20,
     "metadata": {},
     "output_type": "execute_result"
    }
   ],
   "source": [
    "ind = np.argpartition(result, -5)[-5:]\n",
    "ind"
   ]
  },
  {
   "cell_type": "code",
   "execution_count": 21,
   "metadata": {},
   "outputs": [
    {
     "data": {
      "text/plain": [
       "[2224, 4114, 1367]"
      ]
     },
     "execution_count": 21,
     "metadata": {},
     "output_type": "execute_result"
    }
   ],
   "source": [
    "list(ind)[0:3]"
   ]
  },
  {
   "cell_type": "markdown",
   "metadata": {},
   "source": [
    "Step below can not be applied to the data set that I have been provided. But with large data set Collaborative Filtering with Pearson Correlation will work fine"
   ]
  },
  {
   "cell_type": "markdown",
   "metadata": {},
   "source": [
    "# If search is not in features, Recommend with CF"
   ]
  },
  {
   "cell_type": "code",
   "execution_count": null,
   "metadata": {},
   "outputs": [],
   "source": [
    "# Pull up the customer with his/her ratings\n",
    "user = 5000\n",
    "user_df = data1[data1.user_id == user]\n",
    "user_df"
   ]
  },
  {
   "cell_type": "code",
   "execution_count": null,
   "metadata": {},
   "outputs": [],
   "source": [
    "# Pull the customers rated the same restaurants with current customer\n",
    "user_subset = data1[data1.business_id.isin(user_df.business_id).tolist()]\n",
    "user_subset"
   ]
  },
  {
   "cell_type": "code",
   "execution_count": null,
   "metadata": {},
   "outputs": [],
   "source": [
    "# Unit test to check we pulled correct data\n",
    "user_df.shape[0] == data1[data1.business_id.isin(user_df.business_id).tolist()].business_id.nunique()"
   ]
  },
  {
   "cell_type": "code",
   "execution_count": null,
   "metadata": {},
   "outputs": [],
   "source": [
    "# Group by user id\n",
    "user_subset_group = user_subset.groupby(['user_id'])"
   ]
  },
  {
   "cell_type": "code",
   "execution_count": null,
   "metadata": {},
   "outputs": [],
   "source": [
    "#Sorting it so users with businesses most in common with the input will have priority\n",
    "user_subset_group = sorted(user_subset_group,  key=lambda x: len(x[1]), reverse=True)"
   ]
  },
  {
   "cell_type": "code",
   "execution_count": null,
   "metadata": {},
   "outputs": [],
   "source": [
    "user_subset_group[0:3]"
   ]
  },
  {
   "cell_type": "markdown",
   "metadata": {},
   "source": [
    "# Similarity of users to input user\n",
    "Next, we are going to compare all customers to our specified customer and find the one that is most similar.\n",
    "we're going to find out how similar each customer is to the input through the Pearson Correlation Coefficient. It is used to measure the strength of a linear association between two variables."
   ]
  },
  {
   "cell_type": "code",
   "execution_count": null,
   "metadata": {},
   "outputs": [],
   "source": [
    "for name, group in user_subset_group:\n",
    "    print('name =', name)\n",
    "    print('group =', group)"
   ]
  },
  {
   "cell_type": "code",
   "execution_count": null,
   "metadata": {},
   "outputs": [],
   "source": [
    "user_df.sort_values(by='business_id')"
   ]
  },
  {
   "cell_type": "code",
   "execution_count": null,
   "metadata": {},
   "outputs": [],
   "source": [
    "tempRatingList"
   ]
  },
  {
   "cell_type": "code",
   "execution_count": null,
   "metadata": {},
   "outputs": [],
   "source": [
    "tempGroupList"
   ]
  },
  {
   "cell_type": "code",
   "execution_count": null,
   "metadata": {},
   "outputs": [],
   "source": [
    "float(nRatings)"
   ]
  },
  {
   "cell_type": "code",
   "execution_count": null,
   "metadata": {},
   "outputs": [],
   "source": [
    "from math import sqrt\n",
    "#Store the Pearson Correlation in a dictionary, where the key is the user Id and the value is the coefficient\n",
    "pearsonCorrelationDict = {}\n",
    "\n",
    "#For every user group in our subset\n",
    "for name, group in user_subset_group:\n",
    "    #Let's start by sorting the input and current user group so the values aren't mixed up later on\n",
    "    group = group.sort_values(by='business_id')\n",
    "    user_df = user_df.sort_values(by='business_id')\n",
    "    #Get the N for the formula\n",
    "    \n",
    "    nRatings = len(group)\n",
    "    #Get the review scores for the restaurants that they both have in common\n",
    "    \n",
    "    temp_df = user_df[user_df['business_id'].isin(group['business_id'].tolist())]\n",
    "    #And then store them in a temporary buffer variable in a list format to facilitate future calculations\n",
    "    \n",
    "    tempRatingList = temp_df['stars'].tolist()\n",
    "    #Let's also put the current user group reviews in a list format\n",
    "    tempGroupList = group['stars'].tolist()\n",
    "    #Now let's calculate the pearson correlation between two users, so called, x and y\n",
    "    Sxx = sum([i**2 for i in tempRatingList]) - pow(sum(tempRatingList),2)/float(nRatings)\n",
    "    Syy = sum([i**2 for i in tempGroupList]) - pow(sum(tempGroupList),2)/float(nRatings)\n",
    "    Sxy = sum( i*j for i, j in zip(tempRatingList, tempGroupList)) - sum(tempRatingList)*sum(tempGroupList)/float(nRatings)\n",
    "    \n",
    "    #If the denominator is different than zero, then divide, else, 0 correlation.\n",
    "    if Sxx != 0 and Syy != 0:\n",
    "        pearsonCorrelationDict[name] = Sxy/sqrt(Sxx*Syy)\n",
    "    else:\n",
    "        pearsonCorrelationDict[name] = 0\n"
   ]
  },
  {
   "cell_type": "code",
   "execution_count": null,
   "metadata": {},
   "outputs": [],
   "source": [
    "pearsonCorrelationDict.items()"
   ]
  },
  {
   "cell_type": "code",
   "execution_count": null,
   "metadata": {},
   "outputs": [],
   "source": [
    "pearsonDF = pd.DataFrame.from_dict(pearsonCorrelationDict, orient='index')\n",
    "pearsonDF.columns = ['similarityIndex']\n",
    "pearsonDF['user_id'] = pearsonDF.index\n",
    "pearsonDF.index = range(len(pearsonDF))\n",
    "pearsonDF.head()"
   ]
  },
  {
   "cell_type": "markdown",
   "metadata": {},
   "source": [
    "The top 50 similar users to input user"
   ]
  },
  {
   "cell_type": "code",
   "execution_count": null,
   "metadata": {},
   "outputs": [],
   "source": [
    "topUsers=pearsonDF.sort_values(by='similarityIndex', ascending=False)[0:50]\n",
    "topUsers.head()"
   ]
  },
  {
   "cell_type": "code",
   "execution_count": null,
   "metadata": {},
   "outputs": [],
   "source": [
    "ratings_df = data1[['business_id','user_id','stars']]"
   ]
  },
  {
   "cell_type": "code",
   "execution_count": null,
   "metadata": {},
   "outputs": [],
   "source": [
    "topUsersRating=topUsers.merge(ratings_df, left_on='user_id', right_on='user_id', how='inner')\n",
    "topUsersRating.head()"
   ]
  },
  {
   "cell_type": "code",
   "execution_count": null,
   "metadata": {},
   "outputs": [],
   "source": [
    "#Multiplies the similarity by the user's ratings\n",
    "topUsersRating['weightedRating'] = topUsersRating['similarityIndex']*topUsersRating['stars']\n",
    "topUsersRating.head()"
   ]
  },
  {
   "cell_type": "code",
   "execution_count": null,
   "metadata": {},
   "outputs": [],
   "source": [
    "#Applies a sum to the topUsers after grouping it up by userId\n",
    "tempTopUsersRating = topUsersRating.groupby('business_id').sum()[['similarityIndex','weightedRating']]\n",
    "tempTopUsersRating.columns = ['sum_similarityIndex','sum_weightedRating']\n",
    "tempTopUsersRating.head()"
   ]
  },
  {
   "cell_type": "code",
   "execution_count": null,
   "metadata": {},
   "outputs": [],
   "source": [
    "#Creates an empty dataframe\n",
    "recommendation_df = pd.DataFrame()\n",
    "#Now we take the weighted average\n",
    "recommendation_df['weighted average recommendation score'] = tempTopUsersRating['sum_weightedRating']/tempTopUsersRating['sum_similarityIndex']\n",
    "recommendation_df['business_id'] = tempTopUsersRating.index\n",
    "recommendation_df.head()"
   ]
  },
  {
   "cell_type": "code",
   "execution_count": null,
   "metadata": {},
   "outputs": [],
   "source": [
    "recommendation_df = recommendation_df.sort_values(by='weighted average recommendation score', ascending=False)\n",
    "recommendation_df.head(10)"
   ]
  },
  {
   "cell_type": "code",
   "execution_count": null,
   "metadata": {},
   "outputs": [],
   "source": [
    "data1.loc[data1['business_id'].isin(recommendation_df.head(10)['business_id'].tolist())]"
   ]
  },
  {
   "cell_type": "markdown",
   "metadata": {},
   "source": [
    "Pearson correlation is not good choise for this data set where each customer has average 2 ratings. Good rule of thum is 25 for Pearson Correlation"
   ]
  },
  {
   "cell_type": "markdown",
   "metadata": {},
   "source": [
    "# Thank You\n",
    "# Murat Yalcin (Data Scientist / AI Specialist)"
   ]
  }
 ],
 "metadata": {
  "kernelspec": {
   "display_name": "Python 3",
   "language": "python",
   "name": "python3"
  },
  "language_info": {
   "codemirror_mode": {
    "name": "ipython",
    "version": 3
   },
   "file_extension": ".py",
   "mimetype": "text/x-python",
   "name": "python",
   "nbconvert_exporter": "python",
   "pygments_lexer": "ipython3",
   "version": "3.6.3"
  }
 },
 "nbformat": 4,
 "nbformat_minor": 2
}
